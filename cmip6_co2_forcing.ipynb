{
 "cells": [
  {
   "cell_type": "code",
   "execution_count": 6,
   "metadata": {},
   "outputs": [],
   "source": [
    "import iris\n",
    "import iris.coord_categorisation\n",
    "import cf_units\n",
    "from datetime import datetime\n",
    "import numpy as np\n",
    "import matplotlib.pyplot as plt\n",
    "import pandas as pd\n",
    "\n"
   ]
  },
  {
   "cell_type": "code",
   "execution_count": 7,
   "metadata": {},
   "outputs": [],
   "source": [
    "directory = '/data/NAS-geo01/ph290/misc_data/cmip6_forcing/'\n",
    "ssp585 = 'mole-fraction-of-carbon-dioxide-in-air_input4MIPs_GHGConcentrations_ScenarioMIP_UoM-REMIND-MAGPIE-ssp585-1-2-0_gr1-GMNHSH_2015-2500.nc'\n",
    "historical = 'mole-fraction-of-carbon-dioxide-in-air_input4MIPs_GHGConcentrations_CMIP_UoM-CMIP-1-2-0_gr1-GMNHSH_0000-2014.nc'"
   ]
  },
  {
   "cell_type": "code",
   "execution_count": 8,
   "metadata": {},
   "outputs": [],
   "source": [
    "hist_cube = iris.load_cube(directory+historical)\n",
    "ssp585_cube = iris.load_cube(directory+ssp585)"
   ]
  },
  {
   "cell_type": "markdown",
   "metadata": {},
   "source": [
    "Correcting for The fact that the dates in the netcdf file start with a reference date which does not exist (day 0 of the gregorian claendar)\n",
    "instead referencing to day 1 and subtracting 1 from each day number"
   ]
  },
  {
   "cell_type": "code",
   "execution_count": 9,
   "metadata": {},
   "outputs": [],
   "source": [
    "coord = hist_cube.coord('time')\n",
    "\n",
    "units = \"days since 0001-01-01 00:00:00\"\n",
    "\n",
    "hist_years = [cf_units.num2date(x, units, cf_units.CALENDAR_GREGORIAN).year for x in coord.points-1]\n",
    "hist_months = [cf_units.num2date(x, units, cf_units.CALENDAR_GREGORIAN).month for x in coord.points-1]"
   ]
  },
  {
   "cell_type": "code",
   "execution_count": 10,
   "metadata": {},
   "outputs": [],
   "source": [
    "coord = ssp585_cube.coord('time')\n",
    "\n",
    "units = \"days since 1850-01-01 00:00:00\"\n",
    "\n",
    "ssp585_years = [cf_units.num2date(x, units, cf_units.CALENDAR_365_DAY).year for x in coord.points-1]\n",
    "ssp585_months = [cf_units.num2date(x, units, cf_units.CALENDAR_365_DAY).month for x in coord.points-1]\n",
    "# days since 1850-01-01 00:00:00', calendar='365_day'\n"
   ]
  },
  {
   "cell_type": "code",
   "execution_count": 11,
   "metadata": {},
   "outputs": [],
   "source": [
    "co2 = np.concatenate((hist_cube[:,0].data,ssp585_cube[:,0].data))"
   ]
  },
  {
   "cell_type": "code",
   "execution_count": 12,
   "metadata": {},
   "outputs": [],
   "source": [
    "years = np.concatenate((hist_years,ssp585_years)).astype(float)\n",
    "years += 0.5\n"
   ]
  },
  {
   "cell_type": "code",
   "execution_count": 13,
   "metadata": {},
   "outputs": [
    {
     "data": {
      "text/plain": [
       "[<matplotlib.lines.Line2D at 0x7ff29fb5aa10>]"
      ]
     },
     "execution_count": 13,
     "metadata": {},
     "output_type": "execute_result"
    },
    {
     "data": {
      "image/png": "[encoded data removed]",
      "text/plain": [
       "<Figure size 432x288 with 1 Axes>"
      ]
     },
     "metadata": {
      "needs_background": "light"
     },
     "output_type": "display_data"
    }
   ],
   "source": [
    "plt.plot(years,co2)"
   ]
  },
  {
   "cell_type": "code",
   "execution_count": 14,
   "metadata": {},
   "outputs": [],
   "source": [
    "df = pd.DataFrame(columns=['year','atm_co2'])\n",
    "df.year = years\n",
    "df.atm_co2 = co2\n",
    "df.to_csv(directory+'/hist_and_ssp585_atm_co2.dat',index=False,header=False,sep=' ')\n",
    "\n",
    "\n"
   ]
  },
  {
   "cell_type": "code",
   "execution_count": null,
   "metadata": {},
   "outputs": [],
   "source": []
  }
 ],
 "metadata": {
  "kernelspec": {
   "display_name": "Python 2",
   "language": "python",
   "name": "python2"
  },
  "language_info": {
   "codemirror_mode": {
    "name": "ipython",
    "version": 2
   },
   "file_extension": ".py",
   "mimetype": "text/x-python",
   "name": "python",
   "nbconvert_exporter": "python",
   "pygments_lexer": "ipython2",
   "version": "2.7.15"
  }
 },
 "nbformat": 4,
 "nbformat_minor": 2
}
