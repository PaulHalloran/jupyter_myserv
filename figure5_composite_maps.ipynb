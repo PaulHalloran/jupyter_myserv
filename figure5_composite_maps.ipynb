{
 "cells": [
  {
   "cell_type": "code",
   "execution_count": null,
   "metadata": {},
   "outputs": [],
   "source": [
    "\n",
    "import numpy as np\n",
    "import iris\n",
    "import matplotlib.pyplot as plt\n",
    "import time\n",
    "import glob\n",
    "from scipy import signal\n",
    "import scipy\n",
    "import scipy.stats\n",
    "import statsmodels.api as sm\n",
    "import running_mean_post as rmp\n",
    "import cartopy.crs as ccrs\n",
    "import iris.analysis.cartography\n",
    "import numpy.ma as ma\n",
    "import os\n",
    "import running_mean as rm\n",
    "import running_mean_post as rmp\n",
    "from scipy.ndimage import gaussian_filter1d\n",
    "import subprocess\n",
    "import uuid\n",
    "import numpy.ma as ma\n",
    "import iris.plot as iplt\n",
    "import matplotlib.cm as mpl_cm\n",
    "import matplotlib.gridspec as gridspec\n",
    "from scipy.ndimage import gaussian_filter1d\n",
    "import scipy.stats as stats\n",
    "import pandas\n",
    "import iris.coord_categorisation\n",
    "import iris.analysis\n",
    "import iris.quickplot as qplt\n",
    "import pickle\n",
    "import iris.analysis.stats\n",
    "import cartopy.crs as ccrs\n",
    "import cartopy.feature as cfeature\n",
    "from matplotlib import ticker\n",
    "# from cdo import *\n",
    "# cdo = Cdo()\n",
    "\n",
    "import warnings\n",
    "warnings.filterwarnings(\"ignore\")"
   ]
  },
  {
   "cell_type": "markdown",
   "metadata": {},
   "source": [
    "functions used later on"
   ]
  },
  {
   "cell_type": "code",
   "execution_count": null,
   "metadata": {},
   "outputs": [],
   "source": [
    "def model_names(directory,var):\n",
    "    files = glob.glob(directory+'/*_'+var+'_*.nc')\n",
    "    models_tmp = []\n",
    "    for file in files:\n",
    "        statinfo = os.stat(file)\n",
    "        if statinfo.st_size >= 1:\n",
    "            models_tmp.append(file.split('/')[-1].split('_')[0])\n",
    "    models = np.unique(models_tmp)\n",
    "    return models"
   ]
  },
  {
   "cell_type": "code",
   "execution_count": 30,
   "metadata": {},
   "outputs": [],
   "source": [
    "def calculate_composites(models,var_name,my_dir,high_ice_years,low_ice_years,experiment,file_ending,lags):\n",
    "    high_composite = np.zeros([np.size(models),180,360])\n",
    "    high_composite[:] = np.NAN\n",
    "    low_composite = np.zeros([np.size(models),180,360])\n",
    "    low_composite[:] = np.NAN\n",
    "    for i,model in enumerate(models):\n",
    "        # try:\n",
    "            print model\n",
    "            c1 = iris.load_cube(my_dir + model+'_'+var_name+'_'+experiment+'*'+file_ending)\n",
    "            iris.coord_categorisation.add_year(c1, 'time', name='year')\n",
    "            years = c1.coord('year').points\n",
    "            try:\n",
    "                c1 = c1.aggregated_by('year', iris.analysis.MEAN)\n",
    "            except:\n",
    "                print ' '\n",
    "            try:\n",
    "                c1.coord('longitude').guess_bounds()\n",
    "                c1.coord('latitude').guess_bounds()\n",
    "            except:\n",
    "                print 'cube already has bounds'\n",
    "            # cube_data = c1.data\n",
    "            # cube_data_detrended = scipy.signal.detrend(cube_data, axis=0)\n",
    "            # c1.data = cube_data_detrended\n",
    "            high_ice_indices = np.where(np.in1d(years, high_ice_years))[0]\n",
    "            high_composite[i] = c1[high_ice_indices].collapsed('time',iris.analysis.MEAN).data\n",
    "            low_ice_indices = np.where(np.in1d(years, low_ice_years))[0]\n",
    "            low_composite[i] = c1[low_ice_indices].collapsed('time',iris.analysis.MEAN).data\n",
    "        # except:\n",
    "        # \tprint 'failed'\n",
    "    return [high_composite-low_composite]\n",
    "\n",
    "\n",
    "\n",
    "def plot_prep(i,composites,c1):\n",
    "    var_mean = np.nanmean(composites[i],axis=0)\n",
    "    mean_var_cube = c1[0]\n",
    "    tmp2 = np.ma.masked_array(var_mean)\n",
    "    mean_var_cube.data = tmp2.data\n",
    "    return mean_var_cube\n",
    "\n",
    "\n",
    "def calculate_agreement(run_composites,agreement):\n",
    "    # run_composites=run_composites[lag]\n",
    "    composites_agreement = run_composites[0].copy()\n",
    "    composites_agreement[:] = 0.0\n",
    "    for i in range(np.shape(run_composites)[1]):\n",
    "        for j in range(np.shape(run_composites)[2]):\n",
    "            tmp1 = run_composites[:,i,j]\n",
    "            a = np.float(len(np.where(tmp1 > 0.0)[0]))\n",
    "            b = np.float(len(np.where(tmp1 < 0.0)[0]))\n",
    "            ratio = np.max([a/len(tmp1),b/len(tmp1)])\n",
    "            # if b > 0.0:\n",
    "            #     ratio = (a / b)\n",
    "            #     # print 'ratio ',ratio\n",
    "            if ratio > agreement:\n",
    "                composites_agreement[i,j] = np.NAN\n",
    "            if run_composites[:,i,j].all() == 0.0:\n",
    "            \tcomposites_agreement[i,j] = np.NAN\n",
    "    return composites_agreement"
   ]
  },
  {
   "cell_type": "code",
   "execution_count": null,
   "metadata": {},
   "outputs": [],
   "source": [
    "# dir_amoc = '/data/NAS-ph290/ph290/cmip5/msftmyz/last1000/'\n",
    "dir_psl = '/data/NAS-ph290/ph290/cmip5/last1000/'\n",
    "dir_sos = '/data/NAS-ph290/ph290/cmip5/last1000/'\n",
    "dir_tos = '/data/NAS-ph290/ph290/cmip5/last1000/'\n",
    "dir_sic = '/data/NAS-ph290/ph290/cmip5/last1000/'\n",
    "dir_pr = '/data/NAS-ph290/ph290/cmip5/last1000/'\n",
    "dir_rhopot = dir_tos"
   ]
  },
  {
   "cell_type": "code",
   "execution_count": null,
   "metadata": {},
   "outputs": [],
   "source": [
    "\n",
    "###calc Density\n",
    "calculate_the_densities=False\n",
    "\n",
    "if calculate_the_densities:\n",
    "\n",
    "\tdir_psl = '/data/NAS-ph290/ph290/cmip5/last1000/'\n",
    "\tdir_sos = '/data/NAS-ph290/ph290/cmip5/last1000/'\n",
    "\tdir_tos = '/data/NAS-ph290/ph290/cmip5/last1000/'\n",
    "\tdir_sic = '/data/NAS-ph290/ph290/cmip5/last1000/'\n",
    "\tdir_pr = '/data/NAS-ph290/ph290/cmip5/last1000/'\n",
    "\n",
    "\tm0 = model_names(dir_sic,'sic')\n",
    "\t# m1 = model_names(dir_pr,'pr')\n",
    "\tm2 = model_names(dir_sos,'sos')\n",
    "\t# m2 = model_names(dir_sos,'sos')\n",
    "\tm1 = model_names(dir_tos,'tos')\n",
    "\t# m3 = model_names(dir_sic,'sic')\n",
    "\t# m4 = model_names(dir_amoc,'msftmyz')\n",
    "\n",
    "\tmodels = np.intersect1d(m0,m1)\n",
    "\tmodels = np.intersect1d(models,m2)\n",
    "\t# models = np.intersect1d(models,m3)\n",
    "\t# models = np.intersect1d(models,m4)\n",
    "\n",
    "\tmodels = list(models)\n",
    "\ttry:\n",
    "\t\tmodels.remove('GISS-E2-R') # seaice does not load - problem with netcdf\n",
    "\t\tmodels.remove('HadCM3') # seaice does not load - problem with netcdf\n",
    "\t\tmodels.remove('HadGEM2-ES') #  not got density yet\n",
    "\texcept:\n",
    "\t\tprint 'none to remove'\n",
    "\n",
    "\tprint models\n",
    "\n",
    "\tfor model in models:\n",
    "\t\ttry:\n",
    "\t\t\tsubprocess.call(['rm /data/dataSSD0/ph290/tmp/delete.nc'], shell=True)\n",
    "\t\texcept:\n",
    "\t\t\tpass\n",
    "\t\ttry:\n",
    "\t\t\tsubprocess.call(['rm /data/dataSSD0/ph290/tmp/delete_tos.nc'], shell=True)\n",
    "\t\texcept:\n",
    "\t\t\tpass\n",
    "\t\ttry:\n",
    "\t\t\tsubprocess.call(['rm /data/dataSSD0/ph290/tmp/delete_sos.nc'], shell=True)\n",
    "\t\texcept:\n",
    "\t\t\tpass\n",
    "\t\ttry:\n",
    "\t\t\tsubprocess.call(['rm /data/dataSSD0/ph290/tmp/delete_join.nc'], shell=True)\n",
    "\t\texcept:\n",
    "\t\t\tpass\n",
    "\t\tcdo.setname('to', input = '-subc,273.15 '+dir_tos+model+'_tos_past1000_r1i1p1_regridded_not_vertically.nc', output = '/data/dataSSD0/ph290/tmp/delete_tos.nc',  options = '-P 7')\n",
    "\t\tcdo.setname('sao', input = dir_sos+model+'_sos_past1000_regridded.nc', output = '/data/dataSSD0/ph290/tmp/delete_sos.nc',  options = '-P 7')\n",
    "\t\ttmp = ' '.join(['/data/dataSSD0/ph290/tmp/delete_tos.nc','/data/dataSSD0/ph290/tmp/delete_sos.nc'])\n",
    "\t\tcdo.merge(input = tmp, output = '/data/dataSSD0/ph290/tmp/delete_join.nc',  options = '-P 7')\n",
    "\t\tcdo.rhopot(input = '/data/dataSSD0/ph290/tmp/delete_join.nc', output = dir_tos+model+'_rhopot_past1000_r1i1p1_regridded.nc',  options = '-P 7')\n",
    "\t\ttry:\n",
    "\t\t\tsubprocess.call(['rm /data/dataSSD0/ph290/tmp/delete.nc'], shell=True)\n",
    "\t\texcept:\n",
    "\t\t\tpass\n",
    "\t\ttry:\n",
    "\t\t\tsubprocess.call(['rm /data/dataSSD0/ph290/tmp/delete_tos.nc'], shell=True)\n",
    "\t\texcept:\n",
    "\t\t\tpass\n",
    "\t\ttry:\n",
    "\t\t\tsubprocess.call(['rm /data/dataSSD0/ph290/tmp/delete_sos.nc'], shell=True)\n",
    "\t\texcept:\n",
    "\t\t\tpass\n",
    "\t\ttry:\n",
    "\t\t\tsubprocess.call(['rm /data/dataSSD0/ph290/tmp/delete_join.nc'], shell=True)\n",
    "\t\texcept:\n",
    "\t\t\tpass\n",
    "\n"
   ]
  },
  {
   "cell_type": "code",
   "execution_count": null,
   "metadata": {},
   "outputs": [],
   "source": [
    "\n",
    "# model = 'HadGEM2-ES'\n",
    "# print 'having to do hadgem calculations manually on groupserv'\n",
    "# print 'cdo setname,to -subc,273.15 '+dir_tos+model+'_tos_past1000_r1i1p1_regridded_not_vertically.nc /data/BatCaveNAS/ph290/tmp/delete_tos.nc'\n",
    "# print 'cdo setname,sao '+dir_sos+model+'_sos_past1000_r1i1p1_regridded.nc /data/BatCaveNAS/ph290/tmp/delete_sos.nc'\n",
    "# tmp = ' '.join(['/data/BatCaveNAS/ph290/tmp/delete_tos.nc','/data/BatCaveNAS/ph290/tmp/delete_sos.nc'])\n",
    "# print 'cdo merge '+tmp+' /data/BatCaveNAS/ph290/tmp/delete_join.nc'\n",
    "# print 'cdo rhopot /data/BatCaveNAS/ph290/tmp/delete_join.nc '+dir_tos+model+'_rhopot_past1000_r1i1p1_regridded.nc'\n",
    "\n"
   ]
  },
  {
   "cell_type": "code",
   "execution_count": null,
   "metadata": {},
   "outputs": [],
   "source": [
    "m0 = model_names(dir_sic,'sic')\n",
    "# m1 = model_names(dir_pr,'pr')\n",
    "m2 = model_names(dir_sos,'sos')\n",
    "# m2 = model_names(dir_sos,'sos')\n",
    "m1 = model_names(dir_tos,'tos')\n",
    "m3 = model_names(dir_rhopot,'rhopot')\n",
    "# m4 = model_names(dir_amoc,'msftmyz')\n",
    "\n",
    "models = np.intersect1d(m0,m1)\n",
    "models = np.intersect1d(models,m2)\n",
    "models = np.intersect1d(models,m3)\n",
    "print models\n",
    "\n",
    "models = list(models)\n",
    "try:\n",
    "    models.remove('GISS-E2-R') # seaice does not load - problem with netcdf\n",
    "    models.remove('HadCM3') # seaice does not load - problem with netcdf\n",
    "    # models.remove('HadGEM2-ES') #  not got density yet\n",
    "except:\n",
    "    print 'none to remove'\n",
    "\n",
    "print models"
   ]
  },
  {
   "cell_type": "code",
   "execution_count": null,
   "metadata": {},
   "outputs": [],
   "source": [
    "import pandas as pd\n",
    "df = pd.read_csv('/data/NAS-geo01/ph290/observations/iceland_timeseries.csv')\n",
    "sea_ice_years = df['seaice_year'].values\n",
    "sea_ice_extent = df['seaice'].values\n",
    "\n",
    "\n",
    "high_ice_years = sea_ice_years[np.where(sea_ice_extent > 1)]\n",
    "low_ice_years = sea_ice_years[np.where(sea_ice_extent < -1)]\n",
    "\n",
    "df1 = pd.read_csv('/data/NAS-geo01/ph290/misc_data/last_millenium_volcanic/IVI2TotalInjection_501-2000Version2.txt',skiprows=15,delim_whitespace=True,names=['year','nh','sh','nh_and_sh'])\n",
    "years_to_avoid_tmp = df1.query('nh_and_sh > 15.0')['year'].values\n",
    "\n",
    "years_to_avoid=[]\n",
    "\n",
    "#volcanic years + the followinh 10 years\n",
    "for y in years_to_avoid_tmp:\n",
    "\tfor i in range(10):\n",
    "\t\tyears_to_avoid.append(y+i)\n",
    "\n",
    "years_to_avoid = np.unique(years_to_avoid)\n",
    "\n",
    "#remove volcanic years +x from high and low ice years\n",
    "high_ice_years = [x for x in high_ice_years if x not in years_to_avoid]\n",
    "low_ice_years = [x for x in low_ice_years if x not in years_to_avoid]\n",
    "\n",
    "# high_ice_years = sea_ice_years[np.where(sea_ice_extent > 1.0)]\n",
    "# low_ice_years = sea_ice_years[np.where(sea_ice_extent < -1.0)]\n",
    "\n",
    "# with open('/home/ph290/Documents/python_scripts/pickles/sic_psl.pickle', 'r') as f:\n",
    "#     [correlations_pr,correlations_psl] = pickle.load(f)\n",
    "\n",
    "\n",
    "# with open('/home/ph290/Documents/python_scripts/pickles/sic_stuff.pickle', 'r') as f:\n",
    "#     [correlations_pr,correlations_amo] = pickle.load(f)"
   ]
  },
  {
   "cell_type": "code",
   "execution_count": 28,
   "metadata": {},
   "outputs": [
    {
     "name": "stdout",
     "output_type": "stream",
     "text": [
      "CCSM4\n"
     ]
    },
    {
     "name": "stderr",
     "output_type": "stream",
     "text": [
      "/home/ph290/anaconda2/envs/ipykernel_py2/lib/python2.7/site-packages/iris/coords.py:1355: UserWarning: Collapsing a non-contiguous coordinate. Metadata may not be fully descriptive for u'time'.\n",
      "  warnings.warn(msg.format(self.name()))\n",
      "/home/ph290/anaconda2/envs/ipykernel_py2/lib/python2.7/site-packages/iris/coords.py:1355: UserWarning: Collapsing a non-contiguous coordinate. Metadata may not be fully descriptive for u'year'.\n",
      "  warnings.warn(msg.format(self.name()))\n",
      "/home/ph290/anaconda2/envs/ipykernel_py2/lib/python2.7/site-packages/iris/coords.py:1355: UserWarning: Collapsing a non-contiguous coordinate. Metadata may not be fully descriptive for u'time'.\n",
      "  warnings.warn(msg.format(self.name()))\n",
      "/home/ph290/anaconda2/envs/ipykernel_py2/lib/python2.7/site-packages/iris/coords.py:1355: UserWarning: Collapsing a non-contiguous coordinate. Metadata may not be fully descriptive for u'year'.\n",
      "  warnings.warn(msg.format(self.name()))\n"
     ]
    },
    {
     "name": "stdout",
     "output_type": "stream",
     "text": [
      "CSIRO-Mk3L-1-2\n"
     ]
    },
    {
     "name": "stderr",
     "output_type": "stream",
     "text": [
      "/home/ph290/anaconda2/envs/ipykernel_py2/lib/python2.7/site-packages/iris/coords.py:1355: UserWarning: Collapsing a non-contiguous coordinate. Metadata may not be fully descriptive for u'time'.\n",
      "  warnings.warn(msg.format(self.name()))\n",
      "/home/ph290/anaconda2/envs/ipykernel_py2/lib/python2.7/site-packages/iris/coords.py:1355: UserWarning: Collapsing a non-contiguous coordinate. Metadata may not be fully descriptive for u'year'.\n",
      "  warnings.warn(msg.format(self.name()))\n",
      "/home/ph290/anaconda2/envs/ipykernel_py2/lib/python2.7/site-packages/iris/coords.py:1355: UserWarning: Collapsing a non-contiguous coordinate. Metadata may not be fully descriptive for u'time'.\n",
      "  warnings.warn(msg.format(self.name()))\n",
      "/home/ph290/anaconda2/envs/ipykernel_py2/lib/python2.7/site-packages/iris/coords.py:1355: UserWarning: Collapsing a non-contiguous coordinate. Metadata may not be fully descriptive for u'year'.\n",
      "  warnings.warn(msg.format(self.name()))\n"
     ]
    },
    {
     "name": "stdout",
     "output_type": "stream",
     "text": [
      "HadGEM2-ES\n"
     ]
    },
    {
     "name": "stderr",
     "output_type": "stream",
     "text": [
      "/home/ph290/anaconda2/envs/ipykernel_py2/lib/python2.7/site-packages/iris/coords.py:1355: UserWarning: Collapsing a non-contiguous coordinate. Metadata may not be fully descriptive for u'time'.\n",
      "  warnings.warn(msg.format(self.name()))\n",
      "/home/ph290/anaconda2/envs/ipykernel_py2/lib/python2.7/site-packages/iris/coords.py:1355: UserWarning: Collapsing a non-contiguous coordinate. Metadata may not be fully descriptive for u'year'.\n",
      "  warnings.warn(msg.format(self.name()))\n",
      "/home/ph290/anaconda2/envs/ipykernel_py2/lib/python2.7/site-packages/iris/coords.py:1355: UserWarning: Collapsing a non-contiguous coordinate. Metadata may not be fully descriptive for u'time'.\n",
      "  warnings.warn(msg.format(self.name()))\n",
      "/home/ph290/anaconda2/envs/ipykernel_py2/lib/python2.7/site-packages/iris/coords.py:1355: UserWarning: Collapsing a non-contiguous coordinate. Metadata may not be fully descriptive for u'year'.\n",
      "  warnings.warn(msg.format(self.name()))\n"
     ]
    },
    {
     "name": "stdout",
     "output_type": "stream",
     "text": [
      "MIROC-ESM\n"
     ]
    },
    {
     "name": "stderr",
     "output_type": "stream",
     "text": [
      "/home/ph290/anaconda2/envs/ipykernel_py2/lib/python2.7/site-packages/iris/coords.py:1355: UserWarning: Collapsing a non-contiguous coordinate. Metadata may not be fully descriptive for u'time'.\n",
      "  warnings.warn(msg.format(self.name()))\n",
      "/home/ph290/anaconda2/envs/ipykernel_py2/lib/python2.7/site-packages/iris/coords.py:1355: UserWarning: Collapsing a non-contiguous coordinate. Metadata may not be fully descriptive for u'year'.\n",
      "  warnings.warn(msg.format(self.name()))\n",
      "/home/ph290/anaconda2/envs/ipykernel_py2/lib/python2.7/site-packages/iris/coords.py:1355: UserWarning: Collapsing a non-contiguous coordinate. Metadata may not be fully descriptive for u'time'.\n",
      "  warnings.warn(msg.format(self.name()))\n",
      "/home/ph290/anaconda2/envs/ipykernel_py2/lib/python2.7/site-packages/iris/coords.py:1355: UserWarning: Collapsing a non-contiguous coordinate. Metadata may not be fully descriptive for u'year'.\n",
      "  warnings.warn(msg.format(self.name()))\n"
     ]
    },
    {
     "name": "stdout",
     "output_type": "stream",
     "text": [
      "MPI-ESM-P\n"
     ]
    },
    {
     "name": "stderr",
     "output_type": "stream",
     "text": [
      "/home/ph290/anaconda2/envs/ipykernel_py2/lib/python2.7/site-packages/iris/coords.py:1355: UserWarning: Collapsing a non-contiguous coordinate. Metadata may not be fully descriptive for u'time'.\n",
      "  warnings.warn(msg.format(self.name()))\n",
      "/home/ph290/anaconda2/envs/ipykernel_py2/lib/python2.7/site-packages/iris/coords.py:1355: UserWarning: Collapsing a non-contiguous coordinate. Metadata may not be fully descriptive for u'year'.\n",
      "  warnings.warn(msg.format(self.name()))\n",
      "/home/ph290/anaconda2/envs/ipykernel_py2/lib/python2.7/site-packages/iris/coords.py:1355: UserWarning: Collapsing a non-contiguous coordinate. Metadata may not be fully descriptive for u'time'.\n",
      "  warnings.warn(msg.format(self.name()))\n",
      "/home/ph290/anaconda2/envs/ipykernel_py2/lib/python2.7/site-packages/iris/coords.py:1355: UserWarning: Collapsing a non-contiguous coordinate. Metadata may not be fully descriptive for u'year'.\n",
      "  warnings.warn(msg.format(self.name()))\n"
     ]
    },
    {
     "name": "stdout",
     "output_type": "stream",
     "text": [
      "MRI-CGCM3\n"
     ]
    },
    {
     "name": "stderr",
     "output_type": "stream",
     "text": [
      "/home/ph290/anaconda2/envs/ipykernel_py2/lib/python2.7/site-packages/iris/coords.py:1355: UserWarning: Collapsing a non-contiguous coordinate. Metadata may not be fully descriptive for u'time'.\n",
      "  warnings.warn(msg.format(self.name()))\n",
      "/home/ph290/anaconda2/envs/ipykernel_py2/lib/python2.7/site-packages/iris/coords.py:1355: UserWarning: Collapsing a non-contiguous coordinate. Metadata may not be fully descriptive for u'year'.\n",
      "  warnings.warn(msg.format(self.name()))\n",
      "/home/ph290/anaconda2/envs/ipykernel_py2/lib/python2.7/site-packages/iris/coords.py:1355: UserWarning: Collapsing a non-contiguous coordinate. Metadata may not be fully descriptive for u'time'.\n",
      "  warnings.warn(msg.format(self.name()))\n",
      "/home/ph290/anaconda2/envs/ipykernel_py2/lib/python2.7/site-packages/iris/coords.py:1355: UserWarning: Collapsing a non-contiguous coordinate. Metadata may not be fully descriptive for u'year'.\n",
      "  warnings.warn(msg.format(self.name()))\n"
     ]
    },
    {
     "name": "stdout",
     "output_type": "stream",
     "text": [
      "bcc-csm1-1\n"
     ]
    },
    {
     "name": "stderr",
     "output_type": "stream",
     "text": [
      "/home/ph290/anaconda2/envs/ipykernel_py2/lib/python2.7/site-packages/iris/coords.py:1355: UserWarning: Collapsing a non-contiguous coordinate. Metadata may not be fully descriptive for u'time'.\n",
      "  warnings.warn(msg.format(self.name()))\n",
      "/home/ph290/anaconda2/envs/ipykernel_py2/lib/python2.7/site-packages/iris/coords.py:1355: UserWarning: Collapsing a non-contiguous coordinate. Metadata may not be fully descriptive for u'year'.\n",
      "  warnings.warn(msg.format(self.name()))\n",
      "/home/ph290/anaconda2/envs/ipykernel_py2/lib/python2.7/site-packages/iris/coords.py:1355: UserWarning: Collapsing a non-contiguous coordinate. Metadata may not be fully descriptive for u'time'.\n",
      "  warnings.warn(msg.format(self.name()))\n",
      "/home/ph290/anaconda2/envs/ipykernel_py2/lib/python2.7/site-packages/iris/coords.py:1355: UserWarning: Collapsing a non-contiguous coordinate. Metadata may not be fully descriptive for u'year'.\n",
      "  warnings.warn(msg.format(self.name()))\n"
     ]
    },
    {
     "name": "stdout",
     "output_type": "stream",
     "text": [
      "CCSM4\n"
     ]
    },
    {
     "name": "stderr",
     "output_type": "stream",
     "text": [
      "/home/ph290/anaconda2/envs/ipykernel_py2/lib/python2.7/site-packages/iris/coords.py:1355: UserWarning: Collapsing a non-contiguous coordinate. Metadata may not be fully descriptive for u'time'.\n",
      "  warnings.warn(msg.format(self.name()))\n",
      "/home/ph290/anaconda2/envs/ipykernel_py2/lib/python2.7/site-packages/iris/coords.py:1355: UserWarning: Collapsing a non-contiguous coordinate. Metadata may not be fully descriptive for u'year'.\n",
      "  warnings.warn(msg.format(self.name()))\n",
      "/home/ph290/anaconda2/envs/ipykernel_py2/lib/python2.7/site-packages/iris/coords.py:1355: UserWarning: Collapsing a non-contiguous coordinate. Metadata may not be fully descriptive for u'time'.\n",
      "  warnings.warn(msg.format(self.name()))\n",
      "/home/ph290/anaconda2/envs/ipykernel_py2/lib/python2.7/site-packages/iris/coords.py:1355: UserWarning: Collapsing a non-contiguous coordinate. Metadata may not be fully descriptive for u'year'.\n",
      "  warnings.warn(msg.format(self.name()))\n"
     ]
    },
    {
     "name": "stdout",
     "output_type": "stream",
     "text": [
      "CSIRO-Mk3L-1-2\n"
     ]
    },
    {
     "name": "stderr",
     "output_type": "stream",
     "text": [
      "/home/ph290/anaconda2/envs/ipykernel_py2/lib/python2.7/site-packages/iris/coords.py:1355: UserWarning: Collapsing a non-contiguous coordinate. Metadata may not be fully descriptive for u'time'.\n",
      "  warnings.warn(msg.format(self.name()))\n",
      "/home/ph290/anaconda2/envs/ipykernel_py2/lib/python2.7/site-packages/iris/coords.py:1355: UserWarning: Collapsing a non-contiguous coordinate. Metadata may not be fully descriptive for u'year'.\n",
      "  warnings.warn(msg.format(self.name()))\n",
      "/home/ph290/anaconda2/envs/ipykernel_py2/lib/python2.7/site-packages/iris/coords.py:1355: UserWarning: Collapsing a non-contiguous coordinate. Metadata may not be fully descriptive for u'time'.\n",
      "  warnings.warn(msg.format(self.name()))\n",
      "/home/ph290/anaconda2/envs/ipykernel_py2/lib/python2.7/site-packages/iris/coords.py:1355: UserWarning: Collapsing a non-contiguous coordinate. Metadata may not be fully descriptive for u'year'.\n",
      "  warnings.warn(msg.format(self.name()))\n"
     ]
    },
    {
     "name": "stdout",
     "output_type": "stream",
     "text": [
      "HadGEM2-ES\n"
     ]
    },
    {
     "name": "stderr",
     "output_type": "stream",
     "text": [
      "/home/ph290/anaconda2/envs/ipykernel_py2/lib/python2.7/site-packages/iris/coords.py:1355: UserWarning: Collapsing a non-contiguous coordinate. Metadata may not be fully descriptive for u'time'.\n",
      "  warnings.warn(msg.format(self.name()))\n",
      "/home/ph290/anaconda2/envs/ipykernel_py2/lib/python2.7/site-packages/iris/coords.py:1355: UserWarning: Collapsing a non-contiguous coordinate. Metadata may not be fully descriptive for u'year'.\n",
      "  warnings.warn(msg.format(self.name()))\n",
      "/home/ph290/anaconda2/envs/ipykernel_py2/lib/python2.7/site-packages/iris/coords.py:1355: UserWarning: Collapsing a non-contiguous coordinate. Metadata may not be fully descriptive for u'time'.\n",
      "  warnings.warn(msg.format(self.name()))\n",
      "/home/ph290/anaconda2/envs/ipykernel_py2/lib/python2.7/site-packages/iris/coords.py:1355: UserWarning: Collapsing a non-contiguous coordinate. Metadata may not be fully descriptive for u'year'.\n",
      "  warnings.warn(msg.format(self.name()))\n",
      "/home/ph290/anaconda2/envs/ipykernel_py2/lib/python2.7/site-packages/iris/fileformats/_pyke_rules/compiled_krb/fc_rules_cf_fc.py:1935: UserWarning: Ignoring netCDF variable u'sos' invalid units u'psu'\n",
      "  warnings.warn(msg.encode('ascii', errors='backslashreplace'))\n"
     ]
    },
    {
     "name": "stdout",
     "output_type": "stream",
     "text": [
      "MIROC-ESM\n"
     ]
    },
    {
     "name": "stderr",
     "output_type": "stream",
     "text": [
      "/home/ph290/anaconda2/envs/ipykernel_py2/lib/python2.7/site-packages/iris/coords.py:1355: UserWarning: Collapsing a non-contiguous coordinate. Metadata may not be fully descriptive for u'time'.\n",
      "  warnings.warn(msg.format(self.name()))\n",
      "/home/ph290/anaconda2/envs/ipykernel_py2/lib/python2.7/site-packages/iris/coords.py:1355: UserWarning: Collapsing a non-contiguous coordinate. Metadata may not be fully descriptive for u'year'.\n",
      "  warnings.warn(msg.format(self.name()))\n",
      "/home/ph290/anaconda2/envs/ipykernel_py2/lib/python2.7/site-packages/iris/coords.py:1355: UserWarning: Collapsing a non-contiguous coordinate. Metadata may not be fully descriptive for u'time'.\n",
      "  warnings.warn(msg.format(self.name()))\n",
      "/home/ph290/anaconda2/envs/ipykernel_py2/lib/python2.7/site-packages/iris/coords.py:1355: UserWarning: Collapsing a non-contiguous coordinate. Metadata may not be fully descriptive for u'year'.\n",
      "  warnings.warn(msg.format(self.name()))\n",
      "/home/ph290/anaconda2/envs/ipykernel_py2/lib/python2.7/site-packages/iris/fileformats/_pyke_rules/compiled_krb/fc_rules_cf_fc.py:1935: UserWarning: Ignoring netCDF variable u'sos' invalid units u'psu'\n",
      "  warnings.warn(msg.encode('ascii', errors='backslashreplace'))\n"
     ]
    },
    {
     "name": "stdout",
     "output_type": "stream",
     "text": [
      "MPI-ESM-P\n"
     ]
    },
    {
     "name": "stderr",
     "output_type": "stream",
     "text": [
      "/home/ph290/anaconda2/envs/ipykernel_py2/lib/python2.7/site-packages/iris/coords.py:1355: UserWarning: Collapsing a non-contiguous coordinate. Metadata may not be fully descriptive for u'time'.\n",
      "  warnings.warn(msg.format(self.name()))\n",
      "/home/ph290/anaconda2/envs/ipykernel_py2/lib/python2.7/site-packages/iris/coords.py:1355: UserWarning: Collapsing a non-contiguous coordinate. Metadata may not be fully descriptive for u'year'.\n",
      "  warnings.warn(msg.format(self.name()))\n",
      "/home/ph290/anaconda2/envs/ipykernel_py2/lib/python2.7/site-packages/iris/coords.py:1355: UserWarning: Collapsing a non-contiguous coordinate. Metadata may not be fully descriptive for u'time'.\n",
      "  warnings.warn(msg.format(self.name()))\n",
      "/home/ph290/anaconda2/envs/ipykernel_py2/lib/python2.7/site-packages/iris/coords.py:1355: UserWarning: Collapsing a non-contiguous coordinate. Metadata may not be fully descriptive for u'year'.\n",
      "  warnings.warn(msg.format(self.name()))\n",
      "/home/ph290/anaconda2/envs/ipykernel_py2/lib/python2.7/site-packages/iris/fileformats/_pyke_rules/compiled_krb/fc_rules_cf_fc.py:1935: UserWarning: Ignoring netCDF variable u'so' invalid units u'psu'\n",
      "  warnings.warn(msg.encode('ascii', errors='backslashreplace'))\n"
     ]
    },
    {
     "name": "stdout",
     "output_type": "stream",
     "text": [
      "MRI-CGCM3\n"
     ]
    },
    {
     "name": "stderr",
     "output_type": "stream",
     "text": [
      "/home/ph290/anaconda2/envs/ipykernel_py2/lib/python2.7/site-packages/iris/coords.py:1355: UserWarning: Collapsing a non-contiguous coordinate. Metadata may not be fully descriptive for u'time'.\n",
      "  warnings.warn(msg.format(self.name()))\n",
      "/home/ph290/anaconda2/envs/ipykernel_py2/lib/python2.7/site-packages/iris/coords.py:1355: UserWarning: Collapsing a non-contiguous coordinate. Metadata may not be fully descriptive for u'year'.\n",
      "  warnings.warn(msg.format(self.name()))\n",
      "/home/ph290/anaconda2/envs/ipykernel_py2/lib/python2.7/site-packages/iris/coords.py:1355: UserWarning: Collapsing a non-contiguous coordinate. Metadata may not be fully descriptive for u'time'.\n",
      "  warnings.warn(msg.format(self.name()))\n",
      "/home/ph290/anaconda2/envs/ipykernel_py2/lib/python2.7/site-packages/iris/coords.py:1355: UserWarning: Collapsing a non-contiguous coordinate. Metadata may not be fully descriptive for u'year'.\n",
      "  warnings.warn(msg.format(self.name()))\n",
      "/home/ph290/anaconda2/envs/ipykernel_py2/lib/python2.7/site-packages/iris/fileformats/_pyke_rules/compiled_krb/fc_rules_cf_fc.py:1935: UserWarning: Ignoring netCDF variable u'so' invalid units u'psu'\n",
      "  warnings.warn(msg.encode('ascii', errors='backslashreplace'))\n"
     ]
    },
    {
     "name": "stdout",
     "output_type": "stream",
     "text": [
      "bcc-csm1-1\n"
     ]
    },
    {
     "name": "stderr",
     "output_type": "stream",
     "text": [
      "/home/ph290/anaconda2/envs/ipykernel_py2/lib/python2.7/site-packages/iris/coords.py:1355: UserWarning: Collapsing a non-contiguous coordinate. Metadata may not be fully descriptive for u'time'.\n",
      "  warnings.warn(msg.format(self.name()))\n",
      "/home/ph290/anaconda2/envs/ipykernel_py2/lib/python2.7/site-packages/iris/coords.py:1355: UserWarning: Collapsing a non-contiguous coordinate. Metadata may not be fully descriptive for u'year'.\n",
      "  warnings.warn(msg.format(self.name()))\n",
      "/home/ph290/anaconda2/envs/ipykernel_py2/lib/python2.7/site-packages/iris/coords.py:1355: UserWarning: Collapsing a non-contiguous coordinate. Metadata may not be fully descriptive for u'time'.\n",
      "  warnings.warn(msg.format(self.name()))\n",
      "/home/ph290/anaconda2/envs/ipykernel_py2/lib/python2.7/site-packages/iris/coords.py:1355: UserWarning: Collapsing a non-contiguous coordinate. Metadata may not be fully descriptive for u'year'.\n",
      "  warnings.warn(msg.format(self.name()))\n"
     ]
    },
    {
     "name": "stdout",
     "output_type": "stream",
     "text": [
      "CCSM4\n"
     ]
    },
    {
     "name": "stderr",
     "output_type": "stream",
     "text": [
      "/home/ph290/anaconda2/envs/ipykernel_py2/lib/python2.7/site-packages/iris/coords.py:1355: UserWarning: Collapsing a non-contiguous coordinate. Metadata may not be fully descriptive for u'time'.\n",
      "  warnings.warn(msg.format(self.name()))\n",
      "/home/ph290/anaconda2/envs/ipykernel_py2/lib/python2.7/site-packages/iris/coords.py:1355: UserWarning: Collapsing a non-contiguous coordinate. Metadata may not be fully descriptive for u'year'.\n",
      "  warnings.warn(msg.format(self.name()))\n",
      "/home/ph290/anaconda2/envs/ipykernel_py2/lib/python2.7/site-packages/iris/coords.py:1355: UserWarning: Collapsing a non-contiguous coordinate. Metadata may not be fully descriptive for u'time'.\n",
      "  warnings.warn(msg.format(self.name()))\n",
      "/home/ph290/anaconda2/envs/ipykernel_py2/lib/python2.7/site-packages/iris/coords.py:1355: UserWarning: Collapsing a non-contiguous coordinate. Metadata may not be fully descriptive for u'year'.\n",
      "  warnings.warn(msg.format(self.name()))\n"
     ]
    },
    {
     "name": "stdout",
     "output_type": "stream",
     "text": [
      "CSIRO-Mk3L-1-2\n"
     ]
    },
    {
     "name": "stderr",
     "output_type": "stream",
     "text": [
      "/home/ph290/anaconda2/envs/ipykernel_py2/lib/python2.7/site-packages/iris/coords.py:1355: UserWarning: Collapsing a non-contiguous coordinate. Metadata may not be fully descriptive for u'time'.\n",
      "  warnings.warn(msg.format(self.name()))\n",
      "/home/ph290/anaconda2/envs/ipykernel_py2/lib/python2.7/site-packages/iris/coords.py:1355: UserWarning: Collapsing a non-contiguous coordinate. Metadata may not be fully descriptive for u'year'.\n",
      "  warnings.warn(msg.format(self.name()))\n",
      "/home/ph290/anaconda2/envs/ipykernel_py2/lib/python2.7/site-packages/iris/coords.py:1355: UserWarning: Collapsing a non-contiguous coordinate. Metadata may not be fully descriptive for u'time'.\n",
      "  warnings.warn(msg.format(self.name()))\n",
      "/home/ph290/anaconda2/envs/ipykernel_py2/lib/python2.7/site-packages/iris/coords.py:1355: UserWarning: Collapsing a non-contiguous coordinate. Metadata may not be fully descriptive for u'year'.\n",
      "  warnings.warn(msg.format(self.name()))\n"
     ]
    },
    {
     "name": "stdout",
     "output_type": "stream",
     "text": [
      "HadGEM2-ES\n"
     ]
    },
    {
     "name": "stderr",
     "output_type": "stream",
     "text": [
      "/home/ph290/anaconda2/envs/ipykernel_py2/lib/python2.7/site-packages/iris/coords.py:1355: UserWarning: Collapsing a non-contiguous coordinate. Metadata may not be fully descriptive for u'time'.\n",
      "  warnings.warn(msg.format(self.name()))\n",
      "/home/ph290/anaconda2/envs/ipykernel_py2/lib/python2.7/site-packages/iris/coords.py:1355: UserWarning: Collapsing a non-contiguous coordinate. Metadata may not be fully descriptive for u'year'.\n",
      "  warnings.warn(msg.format(self.name()))\n",
      "/home/ph290/anaconda2/envs/ipykernel_py2/lib/python2.7/site-packages/iris/coords.py:1355: UserWarning: Collapsing a non-contiguous coordinate. Metadata may not be fully descriptive for u'time'.\n",
      "  warnings.warn(msg.format(self.name()))\n",
      "/home/ph290/anaconda2/envs/ipykernel_py2/lib/python2.7/site-packages/iris/coords.py:1355: UserWarning: Collapsing a non-contiguous coordinate. Metadata may not be fully descriptive for u'year'.\n",
      "  warnings.warn(msg.format(self.name()))\n"
     ]
    },
    {
     "name": "stdout",
     "output_type": "stream",
     "text": [
      "MIROC-ESM\n"
     ]
    },
    {
     "name": "stderr",
     "output_type": "stream",
     "text": [
      "/home/ph290/anaconda2/envs/ipykernel_py2/lib/python2.7/site-packages/iris/coords.py:1355: UserWarning: Collapsing a non-contiguous coordinate. Metadata may not be fully descriptive for u'time'.\n",
      "  warnings.warn(msg.format(self.name()))\n",
      "/home/ph290/anaconda2/envs/ipykernel_py2/lib/python2.7/site-packages/iris/coords.py:1355: UserWarning: Collapsing a non-contiguous coordinate. Metadata may not be fully descriptive for u'year'.\n",
      "  warnings.warn(msg.format(self.name()))\n",
      "/home/ph290/anaconda2/envs/ipykernel_py2/lib/python2.7/site-packages/iris/coords.py:1355: UserWarning: Collapsing a non-contiguous coordinate. Metadata may not be fully descriptive for u'time'.\n",
      "  warnings.warn(msg.format(self.name()))\n",
      "/home/ph290/anaconda2/envs/ipykernel_py2/lib/python2.7/site-packages/iris/coords.py:1355: UserWarning: Collapsing a non-contiguous coordinate. Metadata may not be fully descriptive for u'year'.\n",
      "  warnings.warn(msg.format(self.name()))\n"
     ]
    },
    {
     "name": "stdout",
     "output_type": "stream",
     "text": [
      "MPI-ESM-P\n"
     ]
    },
    {
     "name": "stderr",
     "output_type": "stream",
     "text": [
      "/home/ph290/anaconda2/envs/ipykernel_py2/lib/python2.7/site-packages/iris/coords.py:1355: UserWarning: Collapsing a non-contiguous coordinate. Metadata may not be fully descriptive for u'time'.\n",
      "  warnings.warn(msg.format(self.name()))\n",
      "/home/ph290/anaconda2/envs/ipykernel_py2/lib/python2.7/site-packages/iris/coords.py:1355: UserWarning: Collapsing a non-contiguous coordinate. Metadata may not be fully descriptive for u'year'.\n",
      "  warnings.warn(msg.format(self.name()))\n",
      "/home/ph290/anaconda2/envs/ipykernel_py2/lib/python2.7/site-packages/iris/coords.py:1355: UserWarning: Collapsing a non-contiguous coordinate. Metadata may not be fully descriptive for u'time'.\n",
      "  warnings.warn(msg.format(self.name()))\n",
      "/home/ph290/anaconda2/envs/ipykernel_py2/lib/python2.7/site-packages/iris/coords.py:1355: UserWarning: Collapsing a non-contiguous coordinate. Metadata may not be fully descriptive for u'year'.\n",
      "  warnings.warn(msg.format(self.name()))\n"
     ]
    },
    {
     "name": "stdout",
     "output_type": "stream",
     "text": [
      "MRI-CGCM3\n"
     ]
    },
    {
     "name": "stderr",
     "output_type": "stream",
     "text": [
      "/home/ph290/anaconda2/envs/ipykernel_py2/lib/python2.7/site-packages/iris/coords.py:1355: UserWarning: Collapsing a non-contiguous coordinate. Metadata may not be fully descriptive for u'time'.\n",
      "  warnings.warn(msg.format(self.name()))\n",
      "/home/ph290/anaconda2/envs/ipykernel_py2/lib/python2.7/site-packages/iris/coords.py:1355: UserWarning: Collapsing a non-contiguous coordinate. Metadata may not be fully descriptive for u'year'.\n",
      "  warnings.warn(msg.format(self.name()))\n",
      "/home/ph290/anaconda2/envs/ipykernel_py2/lib/python2.7/site-packages/iris/coords.py:1355: UserWarning: Collapsing a non-contiguous coordinate. Metadata may not be fully descriptive for u'time'.\n",
      "  warnings.warn(msg.format(self.name()))\n",
      "/home/ph290/anaconda2/envs/ipykernel_py2/lib/python2.7/site-packages/iris/coords.py:1355: UserWarning: Collapsing a non-contiguous coordinate. Metadata may not be fully descriptive for u'year'.\n",
      "  warnings.warn(msg.format(self.name()))\n"
     ]
    },
    {
     "name": "stdout",
     "output_type": "stream",
     "text": [
      "bcc-csm1-1\n"
     ]
    },
    {
     "name": "stderr",
     "output_type": "stream",
     "text": [
      "/home/ph290/anaconda2/envs/ipykernel_py2/lib/python2.7/site-packages/iris/coords.py:1355: UserWarning: Collapsing a non-contiguous coordinate. Metadata may not be fully descriptive for u'time'.\n",
      "  warnings.warn(msg.format(self.name()))\n",
      "/home/ph290/anaconda2/envs/ipykernel_py2/lib/python2.7/site-packages/iris/coords.py:1355: UserWarning: Collapsing a non-contiguous coordinate. Metadata may not be fully descriptive for u'year'.\n",
      "  warnings.warn(msg.format(self.name()))\n",
      "/home/ph290/anaconda2/envs/ipykernel_py2/lib/python2.7/site-packages/iris/coords.py:1355: UserWarning: Collapsing a non-contiguous coordinate. Metadata may not be fully descriptive for u'time'.\n",
      "  warnings.warn(msg.format(self.name()))\n",
      "/home/ph290/anaconda2/envs/ipykernel_py2/lib/python2.7/site-packages/iris/coords.py:1355: UserWarning: Collapsing a non-contiguous coordinate. Metadata may not be fully descriptive for u'year'.\n",
      "  warnings.warn(msg.format(self.name()))\n"
     ]
    },
    {
     "name": "stdout",
     "output_type": "stream",
     "text": [
      "CCSM4\n"
     ]
    },
    {
     "name": "stderr",
     "output_type": "stream",
     "text": [
      "/home/ph290/anaconda2/envs/ipykernel_py2/lib/python2.7/site-packages/iris/coords.py:1355: UserWarning: Collapsing a non-contiguous coordinate. Metadata may not be fully descriptive for u'time'.\n",
      "  warnings.warn(msg.format(self.name()))\n",
      "/home/ph290/anaconda2/envs/ipykernel_py2/lib/python2.7/site-packages/iris/coords.py:1355: UserWarning: Collapsing a non-contiguous coordinate. Metadata may not be fully descriptive for u'year'.\n",
      "  warnings.warn(msg.format(self.name()))\n",
      "/home/ph290/anaconda2/envs/ipykernel_py2/lib/python2.7/site-packages/iris/coords.py:1355: UserWarning: Collapsing a non-contiguous coordinate. Metadata may not be fully descriptive for u'time'.\n",
      "  warnings.warn(msg.format(self.name()))\n",
      "/home/ph290/anaconda2/envs/ipykernel_py2/lib/python2.7/site-packages/iris/coords.py:1355: UserWarning: Collapsing a non-contiguous coordinate. Metadata may not be fully descriptive for u'year'.\n",
      "  warnings.warn(msg.format(self.name()))\n"
     ]
    },
    {
     "name": "stdout",
     "output_type": "stream",
     "text": [
      "CSIRO-Mk3L-1-2\n"
     ]
    },
    {
     "name": "stderr",
     "output_type": "stream",
     "text": [
      "/home/ph290/anaconda2/envs/ipykernel_py2/lib/python2.7/site-packages/iris/coords.py:1355: UserWarning: Collapsing a non-contiguous coordinate. Metadata may not be fully descriptive for u'time'.\n",
      "  warnings.warn(msg.format(self.name()))\n",
      "/home/ph290/anaconda2/envs/ipykernel_py2/lib/python2.7/site-packages/iris/coords.py:1355: UserWarning: Collapsing a non-contiguous coordinate. Metadata may not be fully descriptive for u'year'.\n",
      "  warnings.warn(msg.format(self.name()))\n",
      "/home/ph290/anaconda2/envs/ipykernel_py2/lib/python2.7/site-packages/iris/coords.py:1355: UserWarning: Collapsing a non-contiguous coordinate. Metadata may not be fully descriptive for u'time'.\n",
      "  warnings.warn(msg.format(self.name()))\n",
      "/home/ph290/anaconda2/envs/ipykernel_py2/lib/python2.7/site-packages/iris/coords.py:1355: UserWarning: Collapsing a non-contiguous coordinate. Metadata may not be fully descriptive for u'year'.\n",
      "  warnings.warn(msg.format(self.name()))\n"
     ]
    },
    {
     "name": "stdout",
     "output_type": "stream",
     "text": [
      "HadGEM2-ES\n"
     ]
    },
    {
     "name": "stderr",
     "output_type": "stream",
     "text": [
      "/home/ph290/anaconda2/envs/ipykernel_py2/lib/python2.7/site-packages/iris/coords.py:1355: UserWarning: Collapsing a non-contiguous coordinate. Metadata may not be fully descriptive for u'time'.\n",
      "  warnings.warn(msg.format(self.name()))\n",
      "/home/ph290/anaconda2/envs/ipykernel_py2/lib/python2.7/site-packages/iris/coords.py:1355: UserWarning: Collapsing a non-contiguous coordinate. Metadata may not be fully descriptive for u'year'.\n",
      "  warnings.warn(msg.format(self.name()))\n",
      "/home/ph290/anaconda2/envs/ipykernel_py2/lib/python2.7/site-packages/iris/coords.py:1355: UserWarning: Collapsing a non-contiguous coordinate. Metadata may not be fully descriptive for u'time'.\n",
      "  warnings.warn(msg.format(self.name()))\n",
      "/home/ph290/anaconda2/envs/ipykernel_py2/lib/python2.7/site-packages/iris/coords.py:1355: UserWarning: Collapsing a non-contiguous coordinate. Metadata may not be fully descriptive for u'year'.\n",
      "  warnings.warn(msg.format(self.name()))\n"
     ]
    },
    {
     "name": "stdout",
     "output_type": "stream",
     "text": [
      "MIROC-ESM\n"
     ]
    },
    {
     "name": "stderr",
     "output_type": "stream",
     "text": [
      "/home/ph290/anaconda2/envs/ipykernel_py2/lib/python2.7/site-packages/iris/coords.py:1355: UserWarning: Collapsing a non-contiguous coordinate. Metadata may not be fully descriptive for u'time'.\n",
      "  warnings.warn(msg.format(self.name()))\n",
      "/home/ph290/anaconda2/envs/ipykernel_py2/lib/python2.7/site-packages/iris/coords.py:1355: UserWarning: Collapsing a non-contiguous coordinate. Metadata may not be fully descriptive for u'year'.\n",
      "  warnings.warn(msg.format(self.name()))\n",
      "/home/ph290/anaconda2/envs/ipykernel_py2/lib/python2.7/site-packages/iris/coords.py:1355: UserWarning: Collapsing a non-contiguous coordinate. Metadata may not be fully descriptive for u'time'.\n",
      "  warnings.warn(msg.format(self.name()))\n",
      "/home/ph290/anaconda2/envs/ipykernel_py2/lib/python2.7/site-packages/iris/coords.py:1355: UserWarning: Collapsing a non-contiguous coordinate. Metadata may not be fully descriptive for u'year'.\n",
      "  warnings.warn(msg.format(self.name()))\n"
     ]
    },
    {
     "name": "stdout",
     "output_type": "stream",
     "text": [
      "MPI-ESM-P\n"
     ]
    },
    {
     "name": "stderr",
     "output_type": "stream",
     "text": [
      "/home/ph290/anaconda2/envs/ipykernel_py2/lib/python2.7/site-packages/iris/coords.py:1355: UserWarning: Collapsing a non-contiguous coordinate. Metadata may not be fully descriptive for u'time'.\n",
      "  warnings.warn(msg.format(self.name()))\n",
      "/home/ph290/anaconda2/envs/ipykernel_py2/lib/python2.7/site-packages/iris/coords.py:1355: UserWarning: Collapsing a non-contiguous coordinate. Metadata may not be fully descriptive for u'year'.\n",
      "  warnings.warn(msg.format(self.name()))\n",
      "/home/ph290/anaconda2/envs/ipykernel_py2/lib/python2.7/site-packages/iris/coords.py:1355: UserWarning: Collapsing a non-contiguous coordinate. Metadata may not be fully descriptive for u'time'.\n",
      "  warnings.warn(msg.format(self.name()))\n",
      "/home/ph290/anaconda2/envs/ipykernel_py2/lib/python2.7/site-packages/iris/coords.py:1355: UserWarning: Collapsing a non-contiguous coordinate. Metadata may not be fully descriptive for u'year'.\n",
      "  warnings.warn(msg.format(self.name()))\n"
     ]
    },
    {
     "name": "stdout",
     "output_type": "stream",
     "text": [
      "MRI-CGCM3\n"
     ]
    },
    {
     "name": "stderr",
     "output_type": "stream",
     "text": [
      "/home/ph290/anaconda2/envs/ipykernel_py2/lib/python2.7/site-packages/iris/coords.py:1355: UserWarning: Collapsing a non-contiguous coordinate. Metadata may not be fully descriptive for u'time'.\n",
      "  warnings.warn(msg.format(self.name()))\n",
      "/home/ph290/anaconda2/envs/ipykernel_py2/lib/python2.7/site-packages/iris/coords.py:1355: UserWarning: Collapsing a non-contiguous coordinate. Metadata may not be fully descriptive for u'year'.\n",
      "  warnings.warn(msg.format(self.name()))\n",
      "/home/ph290/anaconda2/envs/ipykernel_py2/lib/python2.7/site-packages/iris/coords.py:1355: UserWarning: Collapsing a non-contiguous coordinate. Metadata may not be fully descriptive for u'time'.\n",
      "  warnings.warn(msg.format(self.name()))\n",
      "/home/ph290/anaconda2/envs/ipykernel_py2/lib/python2.7/site-packages/iris/coords.py:1355: UserWarning: Collapsing a non-contiguous coordinate. Metadata may not be fully descriptive for u'year'.\n",
      "  warnings.warn(msg.format(self.name()))\n"
     ]
    },
    {
     "name": "stdout",
     "output_type": "stream",
     "text": [
      "bcc-csm1-1\n"
     ]
    },
    {
     "name": "stderr",
     "output_type": "stream",
     "text": [
      "/home/ph290/anaconda2/envs/ipykernel_py2/lib/python2.7/site-packages/iris/coords.py:1355: UserWarning: Collapsing a non-contiguous coordinate. Metadata may not be fully descriptive for u'time'.\n",
      "  warnings.warn(msg.format(self.name()))\n",
      "/home/ph290/anaconda2/envs/ipykernel_py2/lib/python2.7/site-packages/iris/coords.py:1355: UserWarning: Collapsing a non-contiguous coordinate. Metadata may not be fully descriptive for u'year'.\n",
      "  warnings.warn(msg.format(self.name()))\n",
      "/home/ph290/anaconda2/envs/ipykernel_py2/lib/python2.7/site-packages/iris/coords.py:1355: UserWarning: Collapsing a non-contiguous coordinate. Metadata may not be fully descriptive for u'time'.\n",
      "  warnings.warn(msg.format(self.name()))\n",
      "/home/ph290/anaconda2/envs/ipykernel_py2/lib/python2.7/site-packages/iris/coords.py:1355: UserWarning: Collapsing a non-contiguous coordinate. Metadata may not be fully descriptive for u'year'.\n",
      "  warnings.warn(msg.format(self.name()))\n"
     ]
    }
   ],
   "source": [
    "lags=[0]\n",
    "var_name = 'sic'\n",
    "run_composites_sic = calculate_composites(models,var_name,dir_sic,high_ice_years,low_ice_years,'past1000','regridded.nc',lags)\n",
    "# var_name = 'pr'\n",
    "# run_composites_pr = calculate_composites(models,var_name,dir_sic,high_ice_years,low_ice_years,'past1000','regridded_*_Amon.nc',lags)\n",
    "var_name = 'sos'\n",
    "run_composites_sos = calculate_composites(models,var_name,dir_sos,high_ice_years,low_ice_years,'past1000','regridded*.nc',lags)\n",
    "var_name = 'tos'\n",
    "run_composites_tos = calculate_composites(models,var_name,dir_tos,high_ice_years,low_ice_years,'past1000','regridded*.nc',lags)\n",
    "var_name = 'rhopot'\n",
    "run_composites_rhopot = calculate_composites(models,var_name,dir_rhopot,high_ice_years,low_ice_years,'past1000','regridded*.nc',lags)\n",
    "# var_name = 'psl'\n",
    "# run_composites_psl = calculate_composites(models,var_name,dir_psl,high_ice_years,low_ice_years,'past1000','regridded*.nc',lags)\n",
    "# run_composites_rhopot = calculate_composites_density(models,high_ice_years,low_ice_years,lags)\n",
    "\n",
    "# with open('/home/ph290/Documents/python_scripts/pickles/sic_psl.pickle', 'w') as f:\n",
    "#     pickle.dump([correlations_pr,correlations_psl], f)\n",
    "# with open('/home/ph290/Documents/python_scripts/pickles/sic_stuff.pickle', 'w') as f:\n",
    "#     pickle.dump([control_run_correlations_pr,control_run_correlations_sic], f)"
   ]
  },
  {
   "cell_type": "code",
   "execution_count": 33,
   "metadata": {},
   "outputs": [
    {
     "name": "stderr",
     "output_type": "stream",
     "text": [
      "/home/ph290/anaconda2/envs/ipykernel_py2/lib/python2.7/site-packages/iris/fileformats/_pyke_rules/compiled_krb/fc_rules_cf_fc.py:1935: UserWarning: Ignoring netCDF variable u'so' invalid units u'psu'\n",
      "  warnings.warn(msg.encode('ascii', errors='backslashreplace'))\n"
     ]
    },
    {
     "name": "stdout",
     "output_type": "stream",
     "text": [
      "refresh this by running cmip5_stm_func_II.py\n",
      "bcc-csm1-1\n",
      "CCSM4\n",
      "CSIRO-Mk3L-1-2\n",
      "FGOALS-s2\n",
      "MIROC-ESM\n",
      "MPI-ESM-P\n",
      "HadGEM2-ES\n"
     ]
    }
   ],
   "source": [
    "agreement=0.66\n",
    "var_name = 'sic'\n",
    "c1 = iris.load_cube(dir_sic + models[0]+'_'+var_name+'_'+'past1000'+'*regridded.nc')\n",
    "composites_sic_agreement = calculate_agreement(run_composites_sic[0],agreement)\n",
    "# c1 = iris.load_cube(dir_sic + models[0]+'_'+'pr'+'_'+'past1000'+'*not_vertically_Amon.nc')\n",
    "# composites_pr_agreement = calculate_agreement(run_composites_pr[0],agreement)\n",
    "c1 = iris.load_cube(dir_sic + models[0]+'_'+'sos'+'_'+'past1000'+'*regridded.nc')\n",
    "composites_sos_agreement = calculate_agreement(run_composites_sos[0],agreement)\n",
    "c1 = iris.load_cube(dir_tos + models[0]+'_'+'tos'+'_'+'past1000'+'*regridded_not_vertically.nc')\n",
    "composites_tos_agreement = calculate_agreement(run_composites_tos[0],agreement)\n",
    "c1 = iris.load_cube(dir_rhopot + models[0]+'_'+'rhopot'+'_'+'past1000'+'*regridded.nc')\n",
    "composites_rhopot_agreement = calculate_agreement(run_composites_rhopot[0],agreement)\n",
    "# c1 = iris.load_cube(dir_psl + models[0]+'_'+'psl'+'_'+'past1000'+'*regridded.nc')\n",
    "# composites_psl_agreement = calculate_agreement(run_composites_psl[0],agreement)\n",
    "# c1 = iris.load_cube('/data/NAS-ph290/ph290/cmip5/last1000/bcc-csm1-1_mixed_layer_density_r1i1p1.nc')\n",
    "# composites_rhopot_agreement = calculate_agreement(run_composites_rhopot[0],agreement)\n",
    "\n",
    "print 'refresh this by running cmip5_stm_func_II.py'\n",
    "\n",
    "\n",
    "with open('/home/ph290/Documents/python_scripts/pickles/amoc_sections.pickle', 'r') as f:\n",
    "    [models,strm_fun,max_strm_fun,max_strm_fun_26,max_strm_fun_45,model_years,mask1,files,resolution,model_meta] = pickle.load(f)\n",
    "\n",
    "\n",
    "with open('/home/ph290/Documents/python_scripts/pickles/amoc_sectionsII.pickle', 'r') as f:\n",
    "    [models,regridded_array] = pickle.load(f)\n",
    "\n",
    "\n",
    "from gridfill import fill\n",
    "from scipy.interpolate import RectBivariateSpline\n",
    "\n",
    "\n",
    "depths_for_interpolation = [5.00000000e+00, 1.50000000e+01, 2.50000000e+01, 3.50000000e+01,\n",
    "       4.50000000e+01, 5.50000000e+01, 6.50000000e+01, 7.50000000e+01,\n",
    "       8.50000000e+01, 9.50000000e+01, 1.05000000e+02, 1.15000000e+02,\n",
    "       1.25000000e+02, 1.35000000e+02, 1.45000000e+02, 1.55000000e+02,\n",
    "       1.65098389e+02, 1.75479004e+02, 1.86291306e+02, 1.97660294e+02,\n",
    "       2.09711395e+02, 2.22578293e+02, 2.36408798e+02, 2.51370193e+02,\n",
    "       2.67654205e+02, 2.85483673e+02, 3.05119202e+02, 3.26868011e+02,\n",
    "       3.51093506e+02, 3.78227600e+02, 4.08784607e+02, 4.43377686e+02,\n",
    "       4.82736694e+02, 5.27727966e+02, 5.79372864e+02, 6.38862610e+02,\n",
    "       7.07563293e+02, 7.87002502e+02, 8.78825195e+02, 9.84705933e+02,\n",
    "       1.10620398e+03, 1.24456702e+03, 1.40049695e+03, 1.57394592e+03,\n",
    "       1.76400293e+03, 1.96894397e+03, 2.18645703e+03, 2.41397192e+03,\n",
    "       2.64900098e+03, 2.88938501e+03, 3.13340503e+03, 3.37979297e+03,\n",
    "       3.62766992e+03, 3.87645190e+03, 4.12576807e+03, 4.37539160e+03,\n",
    "       4.62518994e+03, 4.87508301e+03, 5.12502783e+03, 5.37500000e+03]\n",
    "\n",
    "\n",
    "\n",
    "\n",
    "# import pandas as pd\n",
    "# df = pd.read_csv('/data/NAS-geo01/ph290/observations/iceland_timeseries.csv')\n",
    "# sea_ice_years = df['seaice_year'].values\n",
    "# sea_ice_extent = df['seaice'].values\n",
    "\n",
    "\n",
    "# high_ice_years = sea_ice_years[np.where(sea_ice_extent > 1.0)]\n",
    "# low_ice_years = sea_ice_years[np.where(sea_ice_extent < -1.0)]\n",
    "\n",
    "\n",
    "\n",
    "### calculate those multi-model mean composites ###\n",
    "\n",
    "masked_array = np.ma.masked_invalid(regridded_array).copy()\n",
    "regridded_array = np.nan_to_num(regridded_array).copy()\n",
    "\n",
    "high_composite = np.ma.masked_array(np.zeros([np.size(models),len(depths_for_interpolation),180]))\n",
    "high_composite[:] = np.NAN\n",
    "low_composite = np.ma.masked_array(np.zeros([np.size(models),len(depths_for_interpolation),180]))\n",
    "low_composite[:] = np.NAN\n",
    "for i,model in enumerate(models):\n",
    "# i=0\n",
    "# model = models[i]\n",
    "\t# try:\n",
    "    print model\n",
    "    years = model_meta[model]['years']\n",
    "    # data_detrended = scipy.signal.detrend(regridded_array[i], axis=0)\n",
    "    # high_ice_indices = np.where(np.in1d(years, high_ice_years))[0]\n",
    "    # high_composite[i] = np.mean(data_detrended[high_ice_indices],axis=0)\n",
    "    # low_ice_indices = np.where(np.in1d(years, low_ice_years))[0]\n",
    "    # low_composite[i] = np.mean(data_detrended[low_ice_indices],axis=0)\n",
    "    high_ice_indices = np.where(np.in1d(years, high_ice_years))[0]\n",
    "    high_composite[i] = np.mean(regridded_array[i][high_ice_indices],axis=0)\n",
    "    high_composite[i] /= np.std(high_composite[i])\n",
    "    low_ice_indices = np.where(np.in1d(years, low_ice_years))[0]\n",
    "    low_composite[i] = np.mean(regridded_array[i][low_ice_indices],axis=0)\n",
    "    low_composite[i] /= np.std(low_composite[i][:,90:180])\n",
    "\n",
    "\n",
    "\n",
    "low_composite.mask = masked_array[0][0:np.shape(low_composite)[0]].mask\n",
    "high_composite.mask = masked_array[0][0:np.shape(high_composite)[0]].mask\n",
    "\n",
    "\n",
    "\n",
    "\n",
    "agreement=0.66\n",
    "high_minus_low_composite_agreement = calculate_agreementII(high_composite-low_composite,agreement)\n",
    "high_minus_low_composite_agreement.mask = masked_array[0][0].mask"
   ]
  },
  {
   "cell_type": "code",
   "execution_count": 48,
   "metadata": {},
   "outputs": [
    {
     "data": {
      "image/png": "[encoded data removed]",
      "text/plain": [
       "<Figure size 576x576 with 10 Axes>"
      ]
     },
     "metadata": {
      "needs_background": "light"
     },
     "output_type": "display_data"
    }
   ],
   "source": [
    "import warnings\n",
    "warnings.filterwarnings('ignore')\n",
    "# c1 = iris.load_cube(dir_rhopot + models[0]+'_'+'rhopot'+'_'+'past1000'+'*regridded.nc')\n",
    "\n",
    "minv = -2.5\n",
    "maxv= 2.5\n",
    "levs=51\n",
    "\n",
    "##################################\n",
    "# plotting                       #\n",
    "##################################\n",
    "\n",
    "daysec=60.0*60*24\n",
    "land_50m = cfeature.NaturalEarthFeature('physical', 'land', '50m',\n",
    "                                        edgecolor='face',\n",
    "                                        facecolor=cfeature.COLORS['land'])\n",
    "\n",
    "# plt.close('all')\n",
    "# plt.figure(figsize=(10,10))\n",
    "# # my_projection = ccrs.PlateCarree()\n",
    "# # my_projection = ccrs.NorthPolarStereo()\n",
    "# # my_projection = ccrs.NearsidePerspective(central_longitude=-10,central_latitude=60, satellite_height=15785831)\n",
    "# # my_projection = ccrs.RotatedPole(pole_longitude=177.5, pole_latitude=45.0)\n",
    "my_projection = ccrs.Orthographic(central_longitude=0.0, central_latitude=40.0, globe=None)\n",
    "my_extent = [-180, 180, 50, 90]\n",
    "\n",
    "plt.close('all')\n",
    "fig = plt.figure(figsize=(8,8))\n",
    "# gs = gridspec.GridSpec(23, 40)\n",
    "# ax1 = plt.subplot(gs[0:6,0:38],projection= my_projection)\n",
    "# ax1b = plt.subplot(gs[0:6, 39])\n",
    "# ax3 = plt.subplot(gs[8:14,0:38],projection= my_projection)\n",
    "# ax3b = plt.subplot(gs[8:14, 39])\n",
    "# ax4 = plt.subplot(gs[16:22,0:38])\n",
    "# ax4b = plt.subplot(gs[16:22, 39])\n",
    "\n",
    "# gs = gridspec.GridSpec(15, 80)\n",
    "# ax1 = plt.subplot(gs[0:6,0:16],projection= my_projection)\n",
    "# ax1b = plt.subplot(gs[0:6, 16])\n",
    "# ax2 = plt.subplot(gs[0:6,21:37],projection= my_projection)\n",
    "# ax2b = plt.subplot(gs[0:6, 37])\n",
    "# ax3 = plt.subplot(gs[0:6,42:57],projection= my_projection)\n",
    "# ax3b = plt.subplot(gs[0:6, 57])\n",
    "# ax4 = plt.subplot(gs[0:6,62:77],projection= my_projection)\n",
    "# ax4b = plt.subplot(gs[0:6, 77])\n",
    "# ax_amoc = plt.subplot(gs[8:14,0:58])\n",
    "# ax_amocb = plt.subplot(gs[8:14, 59])\n",
    "\n",
    "font = {'family' : 'normal',\n",
    "        'weight' : 'normal',\n",
    "        'size'   : 8}\n",
    "import matplotlib\n",
    "matplotlib.rc('font', **font)\n",
    "\n",
    "top=1\n",
    "lev1a=9\n",
    "lev1b=11\n",
    "lev2a=20\n",
    "lev2b=21\n",
    "bottom = 30\n",
    "\n",
    "gs = gridspec.GridSpec(30, 40)\n",
    "ax1 = plt.subplot(gs[top:lev1a,0:16],projection= my_projection)\n",
    "ax1b = plt.subplot(gs[top+1:lev1a-1, 17])\n",
    "ax2 = plt.subplot(gs[top:lev1a,21:37],projection= my_projection)\n",
    "ax2b = plt.subplot(gs[top+1:lev1a-1, 38])\n",
    "ax3 = plt.subplot(gs[lev1b:lev2a,0:16],projection= my_projection)\n",
    "ax3b = plt.subplot(gs[lev1b+1:lev2a-1, 17])\n",
    "ax4 = plt.subplot(gs[lev1b:lev2a,21:37],projection= my_projection)\n",
    "ax4b = plt.subplot(gs[lev1b+1:lev2a-1, 38])\n",
    "ax_amoc = plt.subplot(gs[lev2b:bottom,0:38])\n",
    "ax_amocb = plt.subplot(gs[lev2b:bottom, 39])\n",
    "\n",
    "ax1.set_extent(my_extent, crs=ccrs.PlateCarree())\n",
    "ax2.set_extent(my_extent, crs=ccrs.PlateCarree())\n",
    "ax3.set_extent(my_extent, crs=ccrs.PlateCarree())\n",
    "ax4.set_extent(my_extent, crs=ccrs.PlateCarree())\n",
    "\n",
    "# ax1.set_global()\n",
    "# ax2.set_global()\n",
    "# ax3.set_global()\n",
    "# ax4.set_global()\n",
    "\n",
    "\n",
    "## sea-ice ##\n",
    "\n",
    "\n",
    "\n",
    "# ax.set_global()\n",
    "\n",
    "cube1 = plot_prep(0,run_composites_sic,c1)\n",
    "lats1 = cube1.coord('latitude').points\n",
    "lons1 = cube1.coord('longitude').points\n",
    "data1 = cube1.data\n",
    "\n",
    "\n",
    "contour_result1 = ax1.pcolormesh(lons1, lats1, data1,vmin=-5.0,vmax=5.0,\n",
    "\t\t\ttransform=ccrs.PlateCarree(),cmap='bwr')\n",
    "contour_result2 = ax1.pcolormesh(lons1, lats1, composites_sic_agreement,\n",
    "\t\t\ttransform=ccrs.PlateCarree(),cmap='gray',vmin=0,vmax=1,alpha=0.1)\n",
    "\n",
    "cb = plt.colorbar(contour_result1,cax=ax1b, orientation='vertical',extend='both')\n",
    "tick_locator = ticker.MaxNLocator(nbins=5)\n",
    "cb.locator = tick_locator\n",
    "cb.update_ticks()\n",
    "cb.set_label('')\n",
    "coast_50m = cfeature.NaturalEarthFeature('physical', 'coastline', '50m',facecolor='none')\n",
    "ax1.add_feature(land_50m,facecolor='#F5F5F5')\n",
    "ax1.add_feature(coast_50m,edgecolor='#000000',lw=0.5)\n",
    "ax1.set_title('sea-ice percent\\nhigh minus low sea-ice extent years')\n",
    "\n",
    "\n",
    "\n",
    "\n",
    "## temperature ##\n",
    "\n",
    "# ax2 = plt.subplot2grid((3, 1), (2, 0),projection= my_projection)\n",
    "\n",
    "\n",
    "cube1 = plot_prep(0,run_composites_tos,c1)\n",
    "lats1 = cube1.coord('latitude').points\n",
    "lons1 = cube1.coord('longitude').points\n",
    "data1 = cube1.data\n",
    "\n",
    "\n",
    "contour_result1 = ax2.pcolormesh(lons1, lats1, data1,vmin=-0.5,vmax=0.5,\n",
    "\t\t\ttransform=ccrs.PlateCarree(),cmap='bwr')\n",
    "contour_result2 = ax2.pcolormesh(lons1, lats1, composites_tos_agreement,\n",
    "\t\t\ttransform=ccrs.PlateCarree(),cmap='gray',vmin=0,vmax=1,alpha=0.1)\n",
    "\n",
    "cb = plt.colorbar(contour_result1, cax=ax2b,orientation='vertical',extend='both')\n",
    "tick_locator = ticker.MaxNLocator(nbins=5)\n",
    "cb.locator = tick_locator\n",
    "cb.update_ticks()\n",
    "cb.set_label('$^{\\circ}$C')\n",
    "ax2.add_feature(land_50m,facecolor='#F5F5F5')\n",
    "ax2.add_feature(coast_50m,edgecolor='#000000',lw=0.5)\n",
    "ax2.set_title('sst\\nhigh minus low sea-ice extent years')\n",
    "\n",
    "## psl ##\n",
    "\n",
    "\n",
    "#\n",
    "# cube1 = plot_prep(0,run_composites_psl,c1)\n",
    "# lats1 = cube1.coord('latitude').points\n",
    "# lons1 = cube1.coord('longitude').points\n",
    "# data1 = cube1.data\n",
    "#\n",
    "#\n",
    "# contour_result1 = ax3.pcolormesh(lons1, lats1, data1,vmin=-100.0,vmax=100.0,\n",
    "# \t\t\ttransform=ccrs.PlateCarree(),cmap='bwr')\n",
    "# # contour_result2 = ax3.pcolormesh(lons1, lats1, composites_sos_agreement,\n",
    "# # \t\t\ttransform=ccrs.PlateCarree(),cmap='gray',vmin=0,vmax=1,alpha=0.1)\n",
    "#\n",
    "# cb = plt.colorbar(contour_result1, cax=ax3b,orientation='vertical',extend='both')\n",
    "# tick_locator = ticker.MaxNLocator(nbins=5)\n",
    "# cb.locator = tick_locator\n",
    "# cb.update_ticks()\n",
    "# cb.set_label(' ')\n",
    "# ax3.add_feature(land_50m,facecolor='#F5F5F5')\n",
    "# ax3.add_feature(coast_50m,edgecolor='#000000',lw=0.5)\n",
    "# ax3.set_title('psl\\nhigh minus low sea-ice extent years')\n",
    "\n",
    "\n",
    "## salinity ##\n",
    "\n",
    "\n",
    "\n",
    "cube1 = plot_prep(0,run_composites_sos,c1)\n",
    "lats1 = cube1.coord('latitude').points\n",
    "lons1 = cube1.coord('longitude').points\n",
    "data1 = cube1.data\n",
    "\n",
    "\n",
    "contour_result1 = ax3.pcolormesh(lons1, lats1, data1,vmin=-0.2,vmax=0.2,\n",
    "\t\t\ttransform=ccrs.PlateCarree(),cmap='bwr')\n",
    "contour_result2 = ax3.pcolormesh(lons1, lats1, composites_sos_agreement,\n",
    "\t\t\ttransform=ccrs.PlateCarree(),cmap='gray',vmin=0,vmax=1,alpha=0.1)\n",
    "\n",
    "cb = plt.colorbar(contour_result1, cax=ax3b,orientation='vertical',extend='both')\n",
    "tick_locator = ticker.MaxNLocator(nbins=5)\n",
    "cb.locator = tick_locator\n",
    "cb.update_ticks()\n",
    "cb.set_label('g.kg$^{-1}$')\n",
    "ax3.add_feature(land_50m,facecolor='#F5F5F5')\n",
    "ax3.add_feature(coast_50m,edgecolor='#000000',lw=0.5)\n",
    "ax3.set_title('surface salinity\\nhigh minus low sea-ice extent years')\n",
    "\n",
    "## density ##\n",
    "\n",
    "\n",
    "\n",
    "cube1 = plot_prep(0,run_composites_rhopot,c1)\n",
    "lats1 = cube1.coord('latitude').points\n",
    "lons1 = cube1.coord('longitude').points\n",
    "data1 = cube1.data\n",
    "\n",
    "\n",
    "contour_result1 = ax4.pcolormesh(lons1, lats1, data1,vmin=-0.1,vmax=0.1,\n",
    "\t\t\ttransform=ccrs.PlateCarree(),cmap='bwr')\n",
    "contour_result2 = ax4.pcolormesh(lons1, lats1, composites_rhopot_agreement,\n",
    "\t\t\ttransform=ccrs.PlateCarree(),cmap='gray',vmin=0,vmax=1,alpha=0.1)\n",
    "\n",
    "cb = plt.colorbar(contour_result1, cax=ax4b,orientation='vertical',extend='both')\n",
    "tick_locator = ticker.MaxNLocator(nbins=5)\n",
    "cb.locator = tick_locator\n",
    "cb.update_ticks()\n",
    "cb.set_label('kg m$^{-3}$')\n",
    "ax4.add_feature(land_50m,facecolor='#F5F5F5')\n",
    "ax4.add_feature(coast_50m,edgecolor='#000000',lw=0.5)\n",
    "ax4.set_title('surface density\\nhigh minus low sea-ice extent years')\n",
    "\n",
    "## density ##\n",
    "\n",
    "\n",
    "#\n",
    "#\n",
    "# cube1 = plot_prep(0,run_composites_rhopot,c1)\n",
    "# lats1 = cube1.coord('latitude').points\n",
    "# lons1 = cube1.coord('longitude').points\n",
    "# data1 = cube1.data\n",
    "#\n",
    "#\n",
    "# contour_result1 = ax5.pcolormesh(lons1, lats1, data1,vmin=-0.1,vmax=0.1,\n",
    "# \t\t\ttransform=ccrs.PlateCarree(),cmap='bwr')\n",
    "# contour_result2 = ax5.pcolormesh(lons1, lats1, composites_rhopot_agreement,\n",
    "# \t\t\ttransform=ccrs.PlateCarree(),cmap='gray',vmin=0,vmax=1,alpha=0.1)\n",
    "#\n",
    "# cb = plt.colorbar(contour_result1, cax=ax5b,orientation='vertical',extend='both')\n",
    "# tick_locator = ticker.MaxNLocator(nbins=5)\n",
    "# cb.locator = tick_locator\n",
    "# cb.update_ticks()\n",
    "# cb.set_label('g.kg$^{-1}$')\n",
    "# ax5.add_feature(land_50m,facecolor='#F5F5F5')\n",
    "# ax5.add_feature(coast_50m,edgecolor='#000000',lw=0.5)\n",
    "# ax5.set_title('surface density\\nhigh minus low sea-ice extent years')\n",
    "\n",
    "### AMOC ###\n",
    "\n",
    "c4=ax_amoc.contourf(model_meta[models[0]]['lats'],depths_for_interpolation,np.ma.mean(high_composite,axis=0)-np.ma.mean(low_composite,axis=0),np.linspace(minv,maxv,levs),extend='both',cmap='bwr')\n",
    "c4b=ax_amoc.contour(model_meta[models[0]]['lats'],depths_for_interpolation,np.ma.mean(high_composite,axis=0)-np.ma.mean(low_composite,axis=0), np.linspace(-1.0,1.0,11),colors='k',linewidths=0.2)\n",
    "ax_amoc.clabel(c4b, c4b.levels, inline=True, fontsize=10,fmt='%1.1f')\n",
    "agreement_result1 = ax_amoc.pcolormesh(model_meta[models[0]]['lats'],depths_for_interpolation, high_minus_low_composite_agreement,cmap='gray',vmin=0,vmax=1,alpha=0.1)\n",
    "ax_amoc.set_title('multi-model mean normalised AMOC strength difference in high minus low sea-ice years')\n",
    "ax_amoc.set_ylim([6000,0])\n",
    "ax_amoc.set_xlim([0,60])\n",
    "ax_amoc.set_ylabel('depth (m)')\n",
    "ax_amoc.set_xlabel('latitude $^{\\circ}$N')\n",
    "cb4 = plt.colorbar(c4, cax=ax_amocb,orientation='vertical')\n",
    "\n",
    "\n",
    "plt.text(  # position text relative to Figure\n",
    "    0.1, 0.9, 'a',\n",
    "    ha='left', va='top',\n",
    "    fontsize=12,\n",
    "    transform=fig.transFigure)\n",
    "\n",
    "plt.text(  # position text relative to Figure\n",
    "    0.1, 0.62, 'c',\n",
    "    ha='left', va='top',\n",
    "    fontsize=12,\n",
    "    transform=fig.transFigure)\n",
    "\n",
    "plt.text(  # position text relative to Figure\n",
    "    0.1, 0.38, 'e',\n",
    "    ha='left', va='top',\n",
    "    fontsize=12,\n",
    "    transform=fig.transFigure)\n",
    "\n",
    "\n",
    "plt.text(  # position text relative to Figure\n",
    "    0.5, 0.9, 'b',\n",
    "    ha='left', va='top',\n",
    "    fontsize=12,\n",
    "    transform=fig.transFigure)\n",
    "\n",
    "plt.text(  # position text relative to Figure\n",
    "    0.5, 0.62, 'd',\n",
    "    ha='left', va='top',\n",
    "    fontsize=12,\n",
    "    transform=fig.transFigure)\n",
    "\n",
    "\n",
    "    \n",
    "############\n",
    "plt.savefig('/home/ph290/Documents/figures/stuff_high_v_low_ice_sst_removing_vbolc_years_plus9.png')\n",
    "\n",
    "plt.show(block=False)\n"
   ]
  },
  {
   "cell_type": "code",
   "execution_count": null,
   "metadata": {},
   "outputs": [],
   "source": []
  },
  {
   "cell_type": "code",
   "execution_count": null,
   "metadata": {},
   "outputs": [],
   "source": []
  }
 ],
 "metadata": {
  "kernelspec": {
   "display_name": "Python 2",
   "language": "python",
   "name": "python2"
  },
  "language_info": {
   "codemirror_mode": {
    "name": "ipython",
    "version": 2
   },
   "file_extension": ".py",
   "mimetype": "text/x-python",
   "name": "python",
   "nbconvert_exporter": "python",
   "pygments_lexer": "ipython2",
   "version": "2.7.16"
  }
 },
 "nbformat": 4,
 "nbformat_minor": 2
}
